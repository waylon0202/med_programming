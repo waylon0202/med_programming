{
  "nbformat": 4,
  "nbformat_minor": 0,
  "metadata": {
    "colab": {
      "provenance": []
    },
    "kernelspec": {
      "name": "python3",
      "display_name": "Python 3"
    },
    "language_info": {
      "name": "python"
    }
  },
  "cells": [
    {
      "cell_type": "code",
      "source": [
        "#1\n",
        "def prime(x):\n",
        "    if x == 2:\n",
        "        return True\n",
        "    elif x % 2 == 0:\n",
        "        return False\n",
        "    for i in range(3, int(x ** 0.5) + 1, 2):\n",
        "        if x % i == 0:\n",
        "            return False\n",
        "    return True\n",
        "\n",
        "num = int(input(\"請輸入一個數字: \"))\n",
        "for i in range(num):\n",
        "  if prime(num)==True:\n",
        "    break\n",
        "  else:\n",
        "    num-=1\n",
        "    continue\n",
        "print(num)"
      ],
      "metadata": {
        "colab": {
          "base_uri": "https://localhost:8080/"
        },
        "id": "BKAyt44jv34O",
        "outputId": "e70bc422-9c19-42a2-aab3-c81aebe2a530"
      },
      "execution_count": 49,
      "outputs": [
        {
          "output_type": "stream",
          "name": "stdout",
          "text": [
            "請輸入一個數字: 15\n",
            "13\n"
          ]
        }
      ]
    },
    {
      "cell_type": "code",
      "source": [
        "#2\n",
        "a=input('使用者輸入數字:')\n",
        "b=a.split(',')\n",
        "print(b)\n",
        "d=[]\n",
        "for i in range(len(b)):\n",
        "  count=0\n",
        "  for j in range(len(b)):\n",
        "    if b[j]<b[i]:\n",
        "      count+=1\n",
        "  d.append(count)\n",
        "print(d)\n"
      ],
      "metadata": {
        "colab": {
          "base_uri": "https://localhost:8080/"
        },
        "id": "FKR3aA8VqXOY",
        "outputId": "f8455de7-8e5a-49d9-f7f8-de13b03f8faa"
      },
      "execution_count": null,
      "outputs": [
        {
          "output_type": "stream",
          "name": "stdout",
          "text": [
            "使用者輸入數字:1,5,8,6,4\n",
            "['1', '5', '8', '6', '4']\n",
            "[0, 2, 4, 3, 1]\n"
          ]
        }
      ]
    },
    {
      "cell_type": "code",
      "execution_count": null,
      "metadata": {
        "colab": {
          "base_uri": "https://localhost:8080/"
        },
        "id": "O6VyFlPEjYO7",
        "outputId": "40ed4c22-671f-4444-bfd4-bb0914f637ee"
      },
      "outputs": [
        {
          "output_type": "stream",
          "name": "stdout",
          "text": [
            "輸入0和1的字串1111\n",
            "[1, 1, 1, 1]\n",
            "4\n",
            "[6, 4, 4, 6]\n"
          ]
        }
      ],
      "source": [
        "#3\n",
        "I=list((input('輸入0和1的字串')))\n",
        "I=list(map(int, I))\n",
        "print(I)\n",
        "a=[]\n",
        "\n",
        "for i in range(len(I)):\n",
        "  count=0\n",
        "  for k in range(len(I)):\n",
        "    if I[k]==1:\n",
        "      count=count+abs(i-k)\n",
        "  a.append(count)\n",
        "\n",
        "print(a)\n"
      ]
    }
  ]
}