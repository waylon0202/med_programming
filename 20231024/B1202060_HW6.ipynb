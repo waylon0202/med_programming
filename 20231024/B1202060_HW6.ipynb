{
  "nbformat": 4,
  "nbformat_minor": 0,
  "metadata": {
    "colab": {
      "provenance": []
    },
    "kernelspec": {
      "name": "python3",
      "display_name": "Python 3"
    },
    "language_info": {
      "name": "python"
    }
  },
  "cells": [
    {
      "cell_type": "code",
      "execution_count": null,
      "metadata": {
        "colab": {
          "base_uri": "https://localhost:8080/"
        },
        "id": "7T0kodPy5se4",
        "outputId": "358a0a86-78f5-4228-d2e4-78c91480f13a"
      },
      "outputs": [
        {
          "output_type": "stream",
          "name": "stdout",
          "text": [
            "聖誕樹層數：15\n",
            "          *          \n",
            "         ***         \n",
            "        *****        \n",
            "       *******       \n",
            "      *********      \n",
            "     ***********     \n",
            "    *************    \n",
            "   ***************   \n",
            "  *****************  \n",
            " ******************* \n",
            "         ***         \n",
            "         ***         \n",
            "         ***         \n",
            "         ***         \n",
            "         ***         \n"
          ]
        }
      ],
      "source": [
        "L=int(input('聖誕樹層數：'))\n",
        "#畫L-5層樹葉\n",
        "def leaf(n):\n",
        "  for i in range(1,n*2,2):\n",
        "    print(' '*int((n*2-1-i)/2), '*'*i, ' '*int((n*2-1-i)/2))\n",
        "leaf(L-5)\n",
        "\n",
        "#畫5層樹幹\n",
        "def trunk(m):\n",
        "  for k in range(5):\n",
        "    print(' '*(m-7), '*'*3, ' '*(m-7))\n",
        "trunk(L)"
      ]
    },
    {
      "cell_type": "code",
      "source": [
        "def BMI(h,w):\n",
        "  cal= w/(h/100)**2\n",
        "  return cal\n",
        "\n",
        "try:\n",
        "  h=float(input('身高(cm)：'))\n",
        "  w=float(input('體重(kg)；'))\n",
        "  print('BMI=', BMI(h,w))\n",
        "  if BMI(h,w) < 18.5:\n",
        "    print('體位:過輕')\n",
        "  elif BMI(h,w) < 24:\n",
        "    print('體位:適中')\n",
        "  elif BMI(h,w) < 27:\n",
        "    print('體位:過重')\n",
        "  else:\n",
        "    print('體位:肥胖')\n",
        "except:\n",
        "  print('輸入內容有誤')\n",
        "\n"
      ],
      "metadata": {
        "colab": {
          "base_uri": "https://localhost:8080/"
        },
        "id": "LCvo8-TQ_kXl",
        "outputId": "618b8174-0501-4c0e-d408-2de019d4659a"
      },
      "execution_count": 9,
      "outputs": [
        {
          "output_type": "stream",
          "name": "stdout",
          "text": [
            "身高(cm)：190\n",
            "體重(kg)；你猜阿\n",
            "輸入內容有誤\n"
          ]
        }
      ]
    }
  ]
}