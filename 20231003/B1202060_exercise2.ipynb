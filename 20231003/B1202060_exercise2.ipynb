{
  "nbformat": 4,
  "nbformat_minor": 0,
  "metadata": {
    "colab": {
      "provenance": []
    },
    "kernelspec": {
      "name": "python3",
      "display_name": "Python 3"
    },
    "language_info": {
      "name": "python"
    }
  },
  "cells": [
    {
      "cell_type": "code",
      "execution_count": null,
      "metadata": {
        "colab": {
          "base_uri": "https://localhost:8080/"
        },
        "id": "j73YABn5dU22",
        "outputId": "8f3649e8-c49a-40e8-cac3-381adeba2575"
      },
      "outputs": [
        {
          "output_type": "stream",
          "name": "stdout",
          "text": [
            "A\n",
            "['K', 'H', 'U']\n"
          ]
        }
      ],
      "source": [
        "a='C,B,A'\n",
        "b=['F','G','H']\n",
        "c=a.split(',')\n",
        "d=c+b\n",
        "d[0]='K'\n",
        "print(d.pop(2))\n",
        "d[1:4]=[]\n",
        "d.append('U')\n",
        "print(d)\n"
      ]
    },
    {
      "cell_type": "code",
      "source": [
        "w=float(input('請輸入體重(kg)'))\n",
        "h=float(input('請輸入身高(m)'))\n",
        "B=w/h**2\n",
        "print('BMI:',B)\n",
        "if B<18.5:\n",
        "  print('體位:過輕')\n",
        "elif B<24:\n",
        "  print('體位:適中')\n",
        "elif B<27:\n",
        "  print('體位:過胖')\n",
        "else:\n",
        "  print('體位:肥胖')\n"
      ],
      "metadata": {
        "colab": {
          "base_uri": "https://localhost:8080/"
        },
        "id": "lGsymx-fjvWM",
        "outputId": "21beda45-77b5-4809-c639-0fbd85a3818c"
      },
      "execution_count": null,
      "outputs": [
        {
          "output_type": "stream",
          "name": "stdout",
          "text": [
            "請輸入體重(kg)100\n",
            "請輸入身高(m)3\n",
            "BMI: 11.11111111111111\n",
            "體位:過輕\n"
          ]
        }
      ]
    }
  ]
}
