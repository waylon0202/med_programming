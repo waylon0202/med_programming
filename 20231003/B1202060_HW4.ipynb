{
  "nbformat": 4,
  "nbformat_minor": 0,
  "metadata": {
    "colab": {
      "provenance": []
    },
    "kernelspec": {
      "name": "python3",
      "display_name": "Python 3"
    },
    "language_info": {
      "name": "python"
    }
  },
  "cells": [
    {
      "cell_type": "code",
      "execution_count": 43,
      "metadata": {
        "colab": {
          "base_uri": "https://localhost:8080/"
        },
        "id": "dYvxEzamxlJr",
        "outputId": "9cabc76e-1e93-42bc-876f-cd82cc190f70"
      },
      "outputs": [
        {
          "output_type": "stream",
          "name": "stdout",
          "text": [
            "請輸入五個數字，中間以空白隔開：1 2 3 4 5\n",
            "去除最大最小後的平均為 3.0\n"
          ]
        }
      ],
      "source": [
        "#去除MAX min 算平均\n",
        "a=input('請輸入五個數字，中間以空白隔開：')\n",
        "li=a.split(' ')\n",
        "ins= [int(i) for i in li]\n",
        "ins.remove(min(ins))\n",
        "ins.remove(max(ins))\n",
        "s=sum(ins)\n",
        "\n",
        "print('去除最大最小後的平均為',s/3)"
      ]
    },
    {
      "cell_type": "code",
      "source": [
        "#兩數一運算\n",
        "a=input('輸入兩數字與一運算符號')\n",
        "li=list(a)\n",
        "n1=int(li[0])\n",
        "n2=int(li[2])\n",
        "if('+' in li):\n",
        "  print(n1+n2)\n",
        "elif('-' in li):\n",
        "  print(n1-n2)\n",
        "elif('*' in li):\n",
        "  print(n1*n2)\n",
        "elif('/' in li):\n",
        "  print(n1/n2)\n",
        "else:\n",
        "  print('invalid')"
      ],
      "metadata": {
        "colab": {
          "base_uri": "https://localhost:8080/"
        },
        "id": "pUEHFg7BxuHI",
        "outputId": "76a3ae38-e826-44ec-c5f4-393e6e3fe172"
      },
      "execution_count": 34,
      "outputs": [
        {
          "output_type": "stream",
          "name": "stdout",
          "text": [
            "輸入兩數字與一運算符號3+4\n",
            "7\n"
          ]
        }
      ]
    },
    {
      "cell_type": "code",
      "source": [
        "#平年閏年\n",
        "a=int(input('輸入年分：'))\n",
        "l='閏年'\n",
        "n='平年'\n",
        "if a<=1582:\n",
        "  if a%4 == 0:\n",
        "    print(l)\n",
        "  else:\n",
        "    print(n)\n",
        "\n",
        "else:\n",
        "  if a%400 == 0:\n",
        "    print(l)\n",
        "  elif a%100 == 0:\n",
        "    print(n)\n",
        "  elif a%4 == 0:\n",
        "    print(l)\n",
        "  else:\n",
        "    print(n)\n"
      ],
      "metadata": {
        "colab": {
          "base_uri": "https://localhost:8080/"
        },
        "id": "lLCzsLjax8D4",
        "outputId": "de5bced7-8a7a-4f65-c206-50ee4cad15e3"
      },
      "execution_count": 42,
      "outputs": [
        {
          "output_type": "stream",
          "name": "stdout",
          "text": [
            "輸入年分：1705\n",
            "平年\n"
          ]
        }
      ]
    }
  ]
}