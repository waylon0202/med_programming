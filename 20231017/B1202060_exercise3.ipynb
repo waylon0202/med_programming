{
  "nbformat": 4,
  "nbformat_minor": 0,
  "metadata": {
    "colab": {
      "provenance": []
    },
    "kernelspec": {
      "name": "python3",
      "display_name": "Python 3"
    },
    "language_info": {
      "name": "python"
    }
  },
  "cells": [
    {
      "cell_type": "code",
      "execution_count": null,
      "metadata": {
        "colab": {
          "base_uri": "https://localhost:8080/"
        },
        "id": "cpW1TK-_hgaK",
        "outputId": "9992958b-872a-4bad-8320-f01f0c71123c"
      },
      "outputs": [
        {
          "output_type": "stream",
          "name": "stdout",
          "text": [
            "1 x 1 = 1    1 x 2 = 2    1 x 3 = 3    1 x 4 = 4    1 x 5 = 5    1 x 6 = 6    1 x 7 = 7    1 x 8 = 8    1 x 9 = 9    \n",
            "2 x 1 = 2    2 x 2 = 4    2 x 3 = 6    2 x 4 = 8    2 x 5 = 10   2 x 6 = 12   2 x 7 = 14   2 x 8 = 16   2 x 9 = 18   \n",
            "3 x 1 = 3    3 x 2 = 6    3 x 3 = 9    3 x 4 = 12   3 x 5 = 15   3 x 6 = 18   3 x 7 = 21   3 x 8 = 24   3 x 9 = 27   \n",
            "4 x 1 = 4    4 x 2 = 8    4 x 3 = 12   4 x 4 = 16   4 x 5 = 20   4 x 6 = 24   4 x 7 = 28   4 x 8 = 32   4 x 9 = 36   \n",
            "5 x 1 = 5    5 x 2 = 10   5 x 3 = 15   5 x 4 = 20   5 x 5 = 25   5 x 6 = 30   5 x 7 = 35   5 x 8 = 40   5 x 9 = 45   \n",
            "6 x 1 = 6    6 x 2 = 12   6 x 3 = 18   6 x 4 = 24   6 x 5 = 30   6 x 6 = 36   6 x 7 = 42   6 x 8 = 48   6 x 9 = 54   \n",
            "7 x 1 = 7    7 x 2 = 14   7 x 3 = 21   7 x 4 = 28   7 x 5 = 35   7 x 6 = 42   7 x 7 = 49   7 x 8 = 56   7 x 9 = 63   \n",
            "8 x 1 = 8    8 x 2 = 16   8 x 3 = 24   8 x 4 = 32   8 x 5 = 40   8 x 6 = 48   8 x 7 = 56   8 x 8 = 64   8 x 9 = 72   \n",
            "9 x 1 = 9    9 x 2 = 18   9 x 3 = 27   9 x 4 = 36   9 x 5 = 45   9 x 6 = 54   9 x 7 = 63   9 x 8 = 72   9 x 9 = 81   \n"
          ]
        }
      ],
      "source": [
        "for i in range(1, 10):\n",
        "    for j in range(1, 10):\n",
        "        print(str(i) + ' x ' + str(j) + ' = ' + ('{0:<5}'.format(str(i * j))) , end='')\n",
        "    print()"
      ]
    },
    {
      "cell_type": "code",
      "source": [
        "b=1\n",
        "while b<10 :\n",
        "  a=1\n",
        "  while a<10 :\n",
        "    print(str(a) + ' x ' + str(b) + ' = ' + ('{0:<5}'.format(a*b)) , end='')\n",
        "    a+=1\n",
        "  print()\n",
        "  b+=1\n"
      ],
      "metadata": {
        "colab": {
          "base_uri": "https://localhost:8080/"
        },
        "id": "l64-_ybcoV8F",
        "outputId": "935a3996-ab2d-41b5-a7df-99615d05c00c"
      },
      "execution_count": null,
      "outputs": [
        {
          "output_type": "stream",
          "name": "stdout",
          "text": [
            "1 x 1 = 1    2 x 1 = 2    3 x 1 = 3    4 x 1 = 4    5 x 1 = 5    6 x 1 = 6    7 x 1 = 7    8 x 1 = 8    9 x 1 = 9    \n",
            "1 x 2 = 2    2 x 2 = 4    3 x 2 = 6    4 x 2 = 8    5 x 2 = 10   6 x 2 = 12   7 x 2 = 14   8 x 2 = 16   9 x 2 = 18   \n",
            "1 x 3 = 3    2 x 3 = 6    3 x 3 = 9    4 x 3 = 12   5 x 3 = 15   6 x 3 = 18   7 x 3 = 21   8 x 3 = 24   9 x 3 = 27   \n",
            "1 x 4 = 4    2 x 4 = 8    3 x 4 = 12   4 x 4 = 16   5 x 4 = 20   6 x 4 = 24   7 x 4 = 28   8 x 4 = 32   9 x 4 = 36   \n",
            "1 x 5 = 5    2 x 5 = 10   3 x 5 = 15   4 x 5 = 20   5 x 5 = 25   6 x 5 = 30   7 x 5 = 35   8 x 5 = 40   9 x 5 = 45   \n",
            "1 x 6 = 6    2 x 6 = 12   3 x 6 = 18   4 x 6 = 24   5 x 6 = 30   6 x 6 = 36   7 x 6 = 42   8 x 6 = 48   9 x 6 = 54   \n",
            "1 x 7 = 7    2 x 7 = 14   3 x 7 = 21   4 x 7 = 28   5 x 7 = 35   6 x 7 = 42   7 x 7 = 49   8 x 7 = 56   9 x 7 = 63   \n",
            "1 x 8 = 8    2 x 8 = 16   3 x 8 = 24   4 x 8 = 32   5 x 8 = 40   6 x 8 = 48   7 x 8 = 56   8 x 8 = 64   9 x 8 = 72   \n",
            "1 x 9 = 9    2 x 9 = 18   3 x 9 = 27   4 x 9 = 36   5 x 9 = 45   6 x 9 = 54   7 x 9 = 63   8 x 9 = 72   9 x 9 = 81   \n"
          ]
        }
      ]
    },
    {
      "cell_type": "code",
      "source": [
        "i=1;\n",
        "while i < 10:\n",
        "    j=1\n",
        "    while j < 10:\n",
        "        s=  i*j\n",
        "        print ('%d x %d = %d ' %(j, i , s) +'\\t', end='')\n",
        "        j += 1\n",
        "\n",
        "    i += 1\n",
        "    print()"
      ],
      "metadata": {
        "colab": {
          "base_uri": "https://localhost:8080/"
        },
        "id": "0C4-ay79rZpA",
        "outputId": "0940dc8b-73c7-41ef-c94c-2eea4dea039d"
      },
      "execution_count": null,
      "outputs": [
        {
          "output_type": "stream",
          "name": "stdout",
          "text": [
            "1 x 1 = 1 \t2 x 1 = 2 \t3 x 1 = 3 \t4 x 1 = 4 \t5 x 1 = 5 \t6 x 1 = 6 \t7 x 1 = 7 \t8 x 1 = 8 \t9 x 1 = 9 \t\n",
            "1 x 2 = 2 \t2 x 2 = 4 \t3 x 2 = 6 \t4 x 2 = 8 \t5 x 2 = 10 \t6 x 2 = 12 \t7 x 2 = 14 \t8 x 2 = 16 \t9 x 2 = 18 \t\n",
            "1 x 3 = 3 \t2 x 3 = 6 \t3 x 3 = 9 \t4 x 3 = 12 \t5 x 3 = 15 \t6 x 3 = 18 \t7 x 3 = 21 \t8 x 3 = 24 \t9 x 3 = 27 \t\n",
            "1 x 4 = 4 \t2 x 4 = 8 \t3 x 4 = 12 \t4 x 4 = 16 \t5 x 4 = 20 \t6 x 4 = 24 \t7 x 4 = 28 \t8 x 4 = 32 \t9 x 4 = 36 \t\n",
            "1 x 5 = 5 \t2 x 5 = 10 \t3 x 5 = 15 \t4 x 5 = 20 \t5 x 5 = 25 \t6 x 5 = 30 \t7 x 5 = 35 \t8 x 5 = 40 \t9 x 5 = 45 \t\n",
            "1 x 6 = 6 \t2 x 6 = 12 \t3 x 6 = 18 \t4 x 6 = 24 \t5 x 6 = 30 \t6 x 6 = 36 \t7 x 6 = 42 \t8 x 6 = 48 \t9 x 6 = 54 \t\n",
            "1 x 7 = 7 \t2 x 7 = 14 \t3 x 7 = 21 \t4 x 7 = 28 \t5 x 7 = 35 \t6 x 7 = 42 \t7 x 7 = 49 \t8 x 7 = 56 \t9 x 7 = 63 \t\n",
            "1 x 8 = 8 \t2 x 8 = 16 \t3 x 8 = 24 \t4 x 8 = 32 \t5 x 8 = 40 \t6 x 8 = 48 \t7 x 8 = 56 \t8 x 8 = 64 \t9 x 8 = 72 \t\n",
            "1 x 9 = 9 \t2 x 9 = 18 \t3 x 9 = 27 \t4 x 9 = 36 \t5 x 9 = 45 \t6 x 9 = 54 \t7 x 9 = 63 \t8 x 9 = 72 \t9 x 9 = 81 \t\n"
          ]
        }
      ]
    }
  ]
}