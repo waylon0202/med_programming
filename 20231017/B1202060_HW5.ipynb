{
  "nbformat": 4,
  "nbformat_minor": 0,
  "metadata": {
    "colab": {
      "provenance": []
    },
    "kernelspec": {
      "name": "python3",
      "display_name": "Python 3"
    },
    "language_info": {
      "name": "python"
    }
  },
  "cells": [
    {
      "cell_type": "code",
      "execution_count": null,
      "metadata": {
        "id": "8T9N-3_HubdD",
        "colab": {
          "base_uri": "https://localhost:8080/"
        },
        "outputId": "cb861a03-75d0-4c4c-de57-b3e721a3b827"
      },
      "outputs": [
        {
          "output_type": "stream",
          "name": "stdout",
          "text": [
            "        *         \n",
            "       ***        \n",
            "      *****       \n",
            "     *******      \n",
            "    *********     \n",
            "   ***********    \n",
            "  *************   \n",
            " ***************  \n",
            "***************** \n",
            "       ***        \n",
            "       ***        \n",
            "       ***        \n",
            "       ***        \n",
            "       ***        \n"
          ]
        }
      ],
      "source": [
        "for i in range(1,18,2):\n",
        "  print('{:^18}'.format('*'*i))\n",
        "\n",
        "for a in range(5):\n",
        "  print('{:^18}'.format('*'*3))"
      ]
    },
    {
      "cell_type": "code",
      "source": [
        "import random\n",
        "from random import sample\n",
        "\n",
        "a=random.sample(range(1,10),4)\n",
        "print('ANS:',a)\n",
        "A=0\n",
        "\n",
        "while A!=4 :\n",
        "  #AB歸零重算\n",
        "  A=0\n",
        "  B=0\n",
        "  i=list(input('請輸入四位不重複數：'))\n",
        "  i=list(map(int, i))\n",
        "\n",
        "  #不行讓玩家一次輸入多個數字鑽漏洞看到AB\n",
        "  if len(i)!=4:\n",
        "    print('未符合要求，請重新輸入')\n",
        "    continue\n",
        "\n",
        "  #A=位置正確數字正確\n",
        "  for k in range(0,4):\n",
        "    if a[k]==i[k]:\n",
        "      A+=1\n",
        "\n",
        "  #B=交集數-A\n",
        "  intersection = [x for x in a for y in i if x == y]\n",
        "  B=len(intersection)-A\n",
        "  print(A, 'A', B, 'B')\n",
        "\n",
        "print('恭喜猜對，你好棒')\n"
      ],
      "metadata": {
        "colab": {
          "base_uri": "https://localhost:8080/"
        },
        "id": "11WGMAA4x8--",
        "outputId": "d9bbfa40-bec6-4cfb-b0a3-7383acce37b3"
      },
      "execution_count": null,
      "outputs": [
        {
          "output_type": "stream",
          "name": "stdout",
          "text": [
            "ANS: [8, 3, 4, 1]\n",
            "請輸入四位不重複數：8035135\n",
            "未符合要求，請重新輸入\n",
            "請輸入四位不重複數：9431\n",
            "1 A 2 B\n",
            "請輸入四位不重複數：4381\n",
            "2 A 2 B\n",
            "請輸入四位不重複數：8431\n",
            "2 A 2 B\n",
            "請輸入四位不重複數：8341\n",
            "4 A 0 B\n",
            "恭喜猜對，你好棒\n"
          ]
        }
      ]
    }
  ]
}