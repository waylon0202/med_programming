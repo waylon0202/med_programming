{
  "nbformat": 4,
  "nbformat_minor": 0,
  "metadata": {
    "colab": {
      "provenance": []
    },
    "kernelspec": {
      "name": "python3",
      "display_name": "Python 3"
    },
    "language_info": {
      "name": "python"
    }
  },
  "cells": [
    {
      "cell_type": "code",
      "execution_count": null,
      "metadata": {
        "id": "zyYKeavhnIyX",
        "colab": {
          "base_uri": "https://localhost:8080/"
        },
        "outputId": "99bf449f-02a5-472b-a147-e8fdeaa422ac"
      },
      "outputs": [
        {
          "output_type": "stream",
          "name": "stdout",
          "text": [
            "I'm a student\n"
          ]
        }
      ],
      "source": [
        "#1\n",
        "print(\"I'm a student\")"
      ]
    },
    {
      "cell_type": "code",
      "source": [
        "#2\n",
        "x1=input('請輸入A點X座標：')\n",
        "y1=input('請輸入A點Y座標：')\n",
        "x2=input('請輸入B點X座標：')\n",
        "y2=input('請輸入B點Y座標：')\n",
        "d=((float(x1)-float(x2))**2+(float(y1)-float(y2))**2)**0.5\n",
        "print('AB的距離=',d)"
      ],
      "metadata": {
        "colab": {
          "base_uri": "https://localhost:8080/"
        },
        "id": "AcjRfk5o6Trw",
        "outputId": "2812f420-5da7-464e-9c43-954f025d2bd0"
      },
      "execution_count": null,
      "outputs": [
        {
          "output_type": "stream",
          "name": "stdout",
          "text": [
            "請輸入A點X座標：0\n",
            "請輸入A點Y座標：0\n",
            "請輸入B點X座標：1\n",
            "請輸入B點Y座標：1\n",
            "AB的距離= 1.4142135623730951\n"
          ]
        }
      ]
    },
    {
      "cell_type": "code",
      "source": [
        "#3\n",
        "h=input('身高(cm)：')\n",
        "w=input('體重(kg)：')\n",
        "H=float(h)\n",
        "H/=100\n",
        "\n",
        "bmi=float(w)/(H**2)\n",
        "print('BMI=',bmi)\n",
        "print('BMI是否小於18.5')\n",
        "print(int(bmi<18.5))"
      ],
      "metadata": {
        "colab": {
          "base_uri": "https://localhost:8080/"
        },
        "id": "PqDyqkkx8eyl",
        "outputId": "bc98c082-6943-4d73-ca20-41ab5e6b15f9"
      },
      "execution_count": null,
      "outputs": [
        {
          "output_type": "stream",
          "name": "stdout",
          "text": [
            "身高(cm)：177\n",
            "體重(kg)：60\n",
            "BMI= 19.15158479364167\n",
            "BMI是否小於18.5\n",
            "0\n"
          ]
        }
      ]
    }
  ]
}